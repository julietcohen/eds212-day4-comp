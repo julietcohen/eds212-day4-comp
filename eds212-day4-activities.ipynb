{
 "cells": [
  {
   "cell_type": "code",
   "execution_count": null,
   "id": "03d4c9a6",
   "metadata": {},
   "outputs": [],
   "source": [
    "import seaborn as sns\n",
    "import pandas as pd\n",
    "diamonds = sns.load_dataset('diamonds')\n",
    "\n",
    "diamonds.columns\n",
    "diamonds.head()\n",
    "diamonds.tail()\n",
    "diamonds.describe()\n",
    "diamonds.shape\n",
    "sns.pairplot(diamonds)\n",
    "sns.histplot(data = diamonds, x = \"carat\")"
   ]
  }
 ],
 "metadata": {
  "kernelspec": {
   "display_name": "Python 3",
   "language": "python",
   "name": "python3"
  },
  "language_info": {
   "codemirror_mode": {
    "name": "ipython",
    "version": 3
   },
   "file_extension": ".py",
   "mimetype": "text/x-python",
   "name": "python",
   "nbconvert_exporter": "python",
   "pygments_lexer": "ipython3",
   "version": "3.8.8"
  }
 },
 "nbformat": 4,
 "nbformat_minor": 5
}
